{
 "cells": [
  {
   "cell_type": "code",
   "execution_count": 2,
   "id": "9ec46c06",
   "metadata": {},
   "outputs": [],
   "source": [
    "# Suppressing Warnings\n",
    "import warnings\n",
    "warnings.filterwarnings('ignore')"
   ]
  },
  {
   "cell_type": "code",
   "execution_count": 3,
   "id": "67709895",
   "metadata": {},
   "outputs": [],
   "source": [
    "import pandas as pd\n",
    "import numpy as np"
   ]
  },
  {
   "cell_type": "code",
   "execution_count": 4,
   "id": "ed83f402",
   "metadata": {},
   "outputs": [
    {
     "data": {
      "text/html": [
       "<div>\n",
       "<style scoped>\n",
       "    .dataframe tbody tr th:only-of-type {\n",
       "        vertical-align: middle;\n",
       "    }\n",
       "\n",
       "    .dataframe tbody tr th {\n",
       "        vertical-align: top;\n",
       "    }\n",
       "\n",
       "    .dataframe thead th {\n",
       "        text-align: right;\n",
       "    }\n",
       "</style>\n",
       "<table border=\"1\" class=\"dataframe\">\n",
       "  <thead>\n",
       "    <tr style=\"text-align: right;\">\n",
       "      <th></th>\n",
       "      <th>id</th>\n",
       "      <th>label</th>\n",
       "      <th>tweet</th>\n",
       "    </tr>\n",
       "  </thead>\n",
       "  <tbody>\n",
       "    <tr>\n",
       "      <th>0</th>\n",
       "      <td>1</td>\n",
       "      <td>0</td>\n",
       "      <td>@user when a father is dysfunctional and is s...</td>\n",
       "    </tr>\n",
       "    <tr>\n",
       "      <th>1</th>\n",
       "      <td>2</td>\n",
       "      <td>0</td>\n",
       "      <td>@user @user thanks for #lyft credit i can't us...</td>\n",
       "    </tr>\n",
       "    <tr>\n",
       "      <th>2</th>\n",
       "      <td>3</td>\n",
       "      <td>0</td>\n",
       "      <td>bihday your majesty</td>\n",
       "    </tr>\n",
       "    <tr>\n",
       "      <th>3</th>\n",
       "      <td>4</td>\n",
       "      <td>0</td>\n",
       "      <td>#model   i love u take with u all the time in ...</td>\n",
       "    </tr>\n",
       "    <tr>\n",
       "      <th>4</th>\n",
       "      <td>5</td>\n",
       "      <td>0</td>\n",
       "      <td>factsguide: society now    #motivation</td>\n",
       "    </tr>\n",
       "  </tbody>\n",
       "</table>\n",
       "</div>"
      ],
      "text/plain": [
       "   id  label                                              tweet\n",
       "0   1      0   @user when a father is dysfunctional and is s...\n",
       "1   2      0  @user @user thanks for #lyft credit i can't us...\n",
       "2   3      0                                bihday your majesty\n",
       "3   4      0  #model   i love u take with u all the time in ...\n",
       "4   5      0             factsguide: society now    #motivation"
      ]
     },
     "execution_count": 4,
     "metadata": {},
     "output_type": "execute_result"
    }
   ],
   "source": [
    "train = pd.read_csv('train_E6oV3lV.csv')\n",
    "train.head()"
   ]
  },
  {
   "cell_type": "code",
   "execution_count": 6,
   "id": "acbace75",
   "metadata": {},
   "outputs": [
    {
     "data": {
      "text/plain": [
       "<AxesSubplot:xlabel='label', ylabel='count'>"
      ]
     },
     "execution_count": 6,
     "metadata": {},
     "output_type": "execute_result"
    },
    {
     "data": {
      "image/png": "[encoded data removed]",
      "text/plain": [
       "<Figure size 432x288 with 1 Axes>"
      ]
     },
     "metadata": {
      "needs_background": "light"
     },
     "output_type": "display_data"
    }
   ],
   "source": [
    "import seaborn as sns\n",
    "sns.countplot(train['label'])"
   ]
  },
  {
   "cell_type": "code",
   "execution_count": 7,
   "id": "b8d9ae3e",
   "metadata": {},
   "outputs": [
    {
     "name": "stdout",
     "output_type": "stream",
     "text": [
      "9      @user @user welcome here !  i'm   it's so #gr...\n",
      "10     â #ireland consumer price index (mom) climb...\n",
      "Name: tweet, dtype: object\n"
     ]
    }
   ],
   "source": [
    "# before preparation\n",
    "print(train['tweet'].loc[9:10])"
   ]
  },
  {
   "cell_type": "markdown",
   "id": "26f38df4",
   "metadata": {},
   "source": [
    "## Data Preparations\n",
    "> - Clean the data"
   ]
  },
  {
   "cell_type": "code",
   "execution_count": 8,
   "id": "298215cb",
   "metadata": {},
   "outputs": [],
   "source": [
    "# remove special keyword\n",
    "import string\n",
    "def specialKey(text):\n",
    "    keys = ['@','#']\n",
    "    for separator in  string.punctuation:\n",
    "        if separator not in keys:\n",
    "            text = text.replace(separator,' ')\n",
    "    words = []\n",
    "    for word in text.split():\n",
    "        word = word.strip()\n",
    "        if word:\n",
    "            if word[0] not in keys:\n",
    "                words.append(word)\n",
    "    return ' '.join(words)\n",
    "train['tweet'] = train['tweet'].apply(lambda x: specialKey(x))"
   ]
  },
  {
   "cell_type": "code",
   "execution_count": 9,
   "id": "61bd9f82",
   "metadata": {},
   "outputs": [
    {
     "data": {
      "text/plain": [
       "0    when a father is dysfunctional and is so selfi...\n",
       "1    thanks for credit i can t use cause they don t...\n",
       "2                                  bihday your majesty\n",
       "3    i love u take with u all the time in urð± ð...\n",
       "4                               factsguide society now\n",
       "5    2 2 huge fan fare and big talking before they ...\n",
       "6                            camping tomorrow dannyâ¦\n",
       "7    the next school year is the year for exams ð...\n",
       "8                             we won love the land â¦\n",
       "9                             welcome here i m it s so\n",
       "Name: tweet, dtype: object"
      ]
     },
     "execution_count": 9,
     "metadata": {},
     "output_type": "execute_result"
    }
   ],
   "source": [
    "train['tweet'].head(10)"
   ]
  },
  {
   "cell_type": "code",
   "execution_count": 10,
   "id": "6254252b",
   "metadata": {},
   "outputs": [
    {
     "name": "stdout",
     "output_type": "stream",
     "text": [
      "9                              welcome here i m it s so\n",
      "10    â consumer price index mom climbed from prev...\n",
      "Name: tweet, dtype: object\n"
     ]
    }
   ],
   "source": [
    "# after preparations\n",
    "print(train['tweet'].loc[9:10])"
   ]
  },
  {
   "cell_type": "code",
   "execution_count": 11,
   "id": "946da5b9",
   "metadata": {},
   "outputs": [],
   "source": [
    "# remove commas, spaces, question marks etc.\n",
    "def removePunctuation(text):\n",
    "    trans = str.maketrans('', '', string.punctuation)\n",
    "    return text.translate(trans)\n",
    "train['tweet']= train['tweet'].apply(lambda x: removePunctuation(x))"
   ]
  },
  {
   "cell_type": "code",
   "execution_count": 12,
   "id": "f766f11f",
   "metadata": {},
   "outputs": [
    {
     "data": {
      "text/html": [
       "<div>\n",
       "<style scoped>\n",
       "    .dataframe tbody tr th:only-of-type {\n",
       "        vertical-align: middle;\n",
       "    }\n",
       "\n",
       "    .dataframe tbody tr th {\n",
       "        vertical-align: top;\n",
       "    }\n",
       "\n",
       "    .dataframe thead th {\n",
       "        text-align: right;\n",
       "    }\n",
       "</style>\n",
       "<table border=\"1\" class=\"dataframe\">\n",
       "  <thead>\n",
       "    <tr style=\"text-align: right;\">\n",
       "      <th></th>\n",
       "      <th>id</th>\n",
       "      <th>label</th>\n",
       "      <th>tweet</th>\n",
       "    </tr>\n",
       "  </thead>\n",
       "  <tbody>\n",
       "    <tr>\n",
       "      <th>0</th>\n",
       "      <td>1</td>\n",
       "      <td>0</td>\n",
       "      <td>when a father is dysfunctional and is so selfi...</td>\n",
       "    </tr>\n",
       "    <tr>\n",
       "      <th>1</th>\n",
       "      <td>2</td>\n",
       "      <td>0</td>\n",
       "      <td>thanks for credit i can t use cause they don t...</td>\n",
       "    </tr>\n",
       "    <tr>\n",
       "      <th>2</th>\n",
       "      <td>3</td>\n",
       "      <td>0</td>\n",
       "      <td>bihday your majesty</td>\n",
       "    </tr>\n",
       "    <tr>\n",
       "      <th>3</th>\n",
       "      <td>4</td>\n",
       "      <td>0</td>\n",
       "      <td>i love u take with u all the time in urð± ð...</td>\n",
       "    </tr>\n",
       "    <tr>\n",
       "      <th>4</th>\n",
       "      <td>5</td>\n",
       "      <td>0</td>\n",
       "      <td>factsguide society now</td>\n",
       "    </tr>\n",
       "  </tbody>\n",
       "</table>\n",
       "</div>"
      ],
      "text/plain": [
       "   id  label                                              tweet\n",
       "0   1      0  when a father is dysfunctional and is so selfi...\n",
       "1   2      0  thanks for credit i can t use cause they don t...\n",
       "2   3      0                                bihday your majesty\n",
       "3   4      0  i love u take with u all the time in urð± ð...\n",
       "4   5      0                             factsguide society now"
      ]
     },
     "execution_count": 12,
     "metadata": {},
     "output_type": "execute_result"
    }
   ],
   "source": [
    "# after cleaning data\n",
    "train.head()"
   ]
  },
  {
   "cell_type": "code",
   "execution_count": 14,
   "id": "0ddd5f7a",
   "metadata": {},
   "outputs": [],
   "source": [
    "# remove all unwanted symbols present in data sets which ain't characters\n",
    "def deEmojify(inputString):\n",
    "    return inputString.encode('ascii', 'ignore').decode('ascii')\n",
    "\n",
    "train['tweet'] = train['tweet'].apply(lambda x: deEmojify(x))"
   ]
  },
  {
   "cell_type": "code",
   "execution_count": 15,
   "id": "baa4e642",
   "metadata": {},
   "outputs": [
    {
     "data": {
      "text/html": [
       "<div>\n",
       "<style scoped>\n",
       "    .dataframe tbody tr th:only-of-type {\n",
       "        vertical-align: middle;\n",
       "    }\n",
       "\n",
       "    .dataframe tbody tr th {\n",
       "        vertical-align: top;\n",
       "    }\n",
       "\n",
       "    .dataframe thead th {\n",
       "        text-align: right;\n",
       "    }\n",
       "</style>\n",
       "<table border=\"1\" class=\"dataframe\">\n",
       "  <thead>\n",
       "    <tr style=\"text-align: right;\">\n",
       "      <th></th>\n",
       "      <th>id</th>\n",
       "      <th>label</th>\n",
       "      <th>tweet</th>\n",
       "    </tr>\n",
       "  </thead>\n",
       "  <tbody>\n",
       "    <tr>\n",
       "      <th>0</th>\n",
       "      <td>1</td>\n",
       "      <td>0</td>\n",
       "      <td>when a father is dysfunctional and is so selfi...</td>\n",
       "    </tr>\n",
       "    <tr>\n",
       "      <th>1</th>\n",
       "      <td>2</td>\n",
       "      <td>0</td>\n",
       "      <td>thanks for credit i can t use cause they don t...</td>\n",
       "    </tr>\n",
       "    <tr>\n",
       "      <th>2</th>\n",
       "      <td>3</td>\n",
       "      <td>0</td>\n",
       "      <td>bihday your majesty</td>\n",
       "    </tr>\n",
       "    <tr>\n",
       "      <th>3</th>\n",
       "      <td>4</td>\n",
       "      <td>0</td>\n",
       "      <td>i love u take with u all the time in ur</td>\n",
       "    </tr>\n",
       "    <tr>\n",
       "      <th>4</th>\n",
       "      <td>5</td>\n",
       "      <td>0</td>\n",
       "      <td>factsguide society now</td>\n",
       "    </tr>\n",
       "  </tbody>\n",
       "</table>\n",
       "</div>"
      ],
      "text/plain": [
       "   id  label                                              tweet\n",
       "0   1      0  when a father is dysfunctional and is so selfi...\n",
       "1   2      0  thanks for credit i can t use cause they don t...\n",
       "2   3      0                                bihday your majesty\n",
       "3   4      0          i love u take with u all the time in ur  \n",
       "4   5      0                             factsguide society now"
      ]
     },
     "execution_count": 15,
     "metadata": {},
     "output_type": "execute_result"
    }
   ],
   "source": [
    "train.head()"
   ]
  },
  {
   "cell_type": "code",
   "execution_count": 16,
   "id": "dcc7e4aa",
   "metadata": {},
   "outputs": [
    {
     "data": {
      "text/plain": [
       "(31962, 3)"
      ]
     },
     "execution_count": 16,
     "metadata": {},
     "output_type": "execute_result"
    }
   ],
   "source": [
    "train.shape"
   ]
  },
  {
   "cell_type": "markdown",
   "id": "9f573fcb",
   "metadata": {},
   "source": [
    "- remove stopwords and stem"
   ]
  },
  {
   "cell_type": "code",
   "execution_count": 17,
   "id": "9e9efa99",
   "metadata": {},
   "outputs": [
    {
     "name": "stdout",
     "output_type": "stream",
     "text": [
      "['i', 'me', 'my', 'myself', 'we', 'our', 'ours', 'ourselves', 'you', \"you're\", \"you've\", \"you'll\", \"you'd\", 'your', 'yours', 'yourself', 'yourselves', 'he', 'him', 'his', 'himself', 'she', \"she's\", 'her', 'hers', 'herself', 'it', \"it's\", 'its', 'itself', 'they', 'them', 'their', 'theirs', 'themselves', 'what', 'which', 'who', 'whom', 'this', 'that', \"that'll\", 'these', 'those', 'am', 'is', 'are', 'was', 'were', 'be', 'been', 'being', 'have', 'has', 'had', 'having', 'do', 'does', 'did', 'doing', 'a', 'an', 'the', 'and', 'but', 'if', 'or', 'because', 'as', 'until', 'while', 'of', 'at', 'by', 'for', 'with', 'about', 'against', 'between', 'into', 'through', 'during', 'before', 'after', 'above', 'below', 'to', 'from', 'up', 'down', 'in', 'out', 'on', 'off', 'over', 'under', 'again', 'further', 'then', 'once', 'here', 'there', 'when', 'where', 'why', 'how', 'all', 'any', 'both', 'each', 'few', 'more', 'most', 'other', 'some', 'such', 'no', 'nor', 'not', 'only', 'own', 'same', 'so', 'than', 'too', 'very', 's', 't', 'can', 'will', 'just', 'don', \"don't\", 'should', \"should've\", 'now', 'd', 'll', 'm', 'o', 're', 've', 'y', 'ain', 'aren', \"aren't\", 'couldn', \"couldn't\", 'didn', \"didn't\", 'doesn', \"doesn't\", 'hadn', \"hadn't\", 'hasn', \"hasn't\", 'haven', \"haven't\", 'isn', \"isn't\", 'ma', 'mightn', \"mightn't\", 'mustn', \"mustn't\", 'needn', \"needn't\", 'shan', \"shan't\", 'shouldn', \"shouldn't\", 'wasn', \"wasn't\", 'weren', \"weren't\", 'won', \"won't\", 'wouldn', \"wouldn't\"]\n"
     ]
    },
    {
     "name": "stderr",
     "output_type": "stream",
     "text": [
      "[nltk_data] Downloading package stopwords to\n",
      "[nltk_data]     C:\\Users\\Asus\\AppData\\Roaming\\nltk_data...\n",
      "[nltk_data]   Package stopwords is already up-to-date!\n"
     ]
    }
   ],
   "source": [
    "import nltk\n",
    "nltk.download('stopwords')\n",
    "from nltk.corpus import stopwords\n",
    "\n",
    "print(stopwords.words('english'))"
   ]
  },
  {
   "cell_type": "code",
   "execution_count": 18,
   "id": "f1e53fb5",
   "metadata": {},
   "outputs": [],
   "source": [
    "import re\n",
    "from nltk.stem import SnowballStemmer\n",
    "\n",
    "stop_words = stopwords.words('english')\n",
    "stemmer = SnowballStemmer('english')"
   ]
  },
  {
   "cell_type": "code",
   "execution_count": 19,
   "id": "5b3ad2a3",
   "metadata": {},
   "outputs": [],
   "source": [
    "def transform_text(text, stem=True):\n",
    "    \n",
    "    text = text.lower()\n",
    "    tokens = []\n",
    "    for token in text.split():\n",
    "        if token not in stop_words:\n",
    "            if stem:\n",
    "                tokens.append(stemmer.stem(token))\n",
    "            else:\n",
    "                tokens.append(token)\n",
    "    return \" \".join(tokens)\n",
    "train['tweet'] = train['tweet'].apply(transform_text)"
   ]
  },
  {
   "cell_type": "code",
   "execution_count": 20,
   "id": "958defdf",
   "metadata": {},
   "outputs": [],
   "source": [
    "# remove nums and links\n",
    "train['tweet'] = train['tweet'].str.strip().str.replace('   ', ' ').str.replace('  ', ' ')\n",
    "train['tweet'] = train['tweet'].str.replace('\\d+', '')\n",
    "train['tweet'] = train['tweet'].str.replace(r'http?://[^\\s<>\"]+|www\\.[^\\s<>\"]+', '')"
   ]
  },
  {
   "cell_type": "code",
   "execution_count": 21,
   "id": "8777d454",
   "metadata": {},
   "outputs": [
    {
     "data": {
      "text/html": [
       "<div>\n",
       "<style scoped>\n",
       "    .dataframe tbody tr th:only-of-type {\n",
       "        vertical-align: middle;\n",
       "    }\n",
       "\n",
       "    .dataframe tbody tr th {\n",
       "        vertical-align: top;\n",
       "    }\n",
       "\n",
       "    .dataframe thead th {\n",
       "        text-align: right;\n",
       "    }\n",
       "</style>\n",
       "<table border=\"1\" class=\"dataframe\">\n",
       "  <thead>\n",
       "    <tr style=\"text-align: right;\">\n",
       "      <th></th>\n",
       "      <th>id</th>\n",
       "      <th>label</th>\n",
       "      <th>tweet</th>\n",
       "    </tr>\n",
       "  </thead>\n",
       "  <tbody>\n",
       "    <tr>\n",
       "      <th>0</th>\n",
       "      <td>1</td>\n",
       "      <td>0</td>\n",
       "      <td>father dysfunct selfish drag kid dysfunct</td>\n",
       "    </tr>\n",
       "    <tr>\n",
       "      <th>1</th>\n",
       "      <td>2</td>\n",
       "      <td>0</td>\n",
       "      <td>thank credit use caus offer wheelchair van pdx</td>\n",
       "    </tr>\n",
       "    <tr>\n",
       "      <th>2</th>\n",
       "      <td>3</td>\n",
       "      <td>0</td>\n",
       "      <td>bihday majesti</td>\n",
       "    </tr>\n",
       "    <tr>\n",
       "      <th>3</th>\n",
       "      <td>4</td>\n",
       "      <td>0</td>\n",
       "      <td>love u take u time ur</td>\n",
       "    </tr>\n",
       "    <tr>\n",
       "      <th>4</th>\n",
       "      <td>5</td>\n",
       "      <td>0</td>\n",
       "      <td>factsguid societi</td>\n",
       "    </tr>\n",
       "    <tr>\n",
       "      <th>5</th>\n",
       "      <td>6</td>\n",
       "      <td>0</td>\n",
       "      <td>huge fan fare big talk leav chao pay disput get</td>\n",
       "    </tr>\n",
       "    <tr>\n",
       "      <th>6</th>\n",
       "      <td>7</td>\n",
       "      <td>0</td>\n",
       "      <td>camp tomorrow danni</td>\n",
       "    </tr>\n",
       "    <tr>\n",
       "      <th>7</th>\n",
       "      <td>8</td>\n",
       "      <td>0</td>\n",
       "      <td>next school year year exam think</td>\n",
       "    </tr>\n",
       "    <tr>\n",
       "      <th>8</th>\n",
       "      <td>9</td>\n",
       "      <td>0</td>\n",
       "      <td>love land</td>\n",
       "    </tr>\n",
       "    <tr>\n",
       "      <th>9</th>\n",
       "      <td>10</td>\n",
       "      <td>0</td>\n",
       "      <td>welcom</td>\n",
       "    </tr>\n",
       "  </tbody>\n",
       "</table>\n",
       "</div>"
      ],
      "text/plain": [
       "   id  label                                              tweet\n",
       "0   1      0          father dysfunct selfish drag kid dysfunct\n",
       "1   2      0     thank credit use caus offer wheelchair van pdx\n",
       "2   3      0                                     bihday majesti\n",
       "3   4      0                              love u take u time ur\n",
       "4   5      0                                  factsguid societi\n",
       "5   6      0    huge fan fare big talk leav chao pay disput get\n",
       "6   7      0                                camp tomorrow danni\n",
       "7   8      0                   next school year year exam think\n",
       "8   9      0                                          love land\n",
       "9  10      0                                             welcom"
      ]
     },
     "execution_count": 21,
     "metadata": {},
     "output_type": "execute_result"
    }
   ],
   "source": [
    "train.head(10)"
   ]
  },
  {
   "cell_type": "markdown",
   "id": "a6a7a196",
   "metadata": {},
   "source": [
    "## Model Building on train data"
   ]
  },
  {
   "cell_type": "code",
   "execution_count": 22,
   "id": "a2218750",
   "metadata": {},
   "outputs": [],
   "source": [
    "from sklearn.feature_extraction.text import CountVectorizer, TfidfVectorizer"
   ]
  },
  {
   "cell_type": "code",
   "execution_count": 23,
   "id": "670e6373",
   "metadata": {},
   "outputs": [
    {
     "data": {
      "text/plain": [
       "(31962, 16201)"
      ]
     },
     "execution_count": 23,
     "metadata": {},
     "output_type": "execute_result"
    }
   ],
   "source": [
    "#cv = CountVectorizer()\n",
    "tfidf = TfidfVectorizer()\n",
    "x = tfidf.fit_transform(train['tweet']).toarray()\n",
    "x.shape"
   ]
  },
  {
   "cell_type": "code",
   "execution_count": 24,
   "id": "e3af2458",
   "metadata": {},
   "outputs": [
    {
     "data": {
      "text/plain": [
       "0    0\n",
       "1    0\n",
       "2    0\n",
       "3    0\n",
       "4    0\n",
       "Name: label, dtype: int64"
      ]
     },
     "execution_count": 24,
     "metadata": {},
     "output_type": "execute_result"
    }
   ],
   "source": [
    "# y = train.iloc[:,[1]].values\n",
    "# y[:10]\n",
    "y = train['label']\n",
    "y.head()"
   ]
  },
  {
   "cell_type": "code",
   "execution_count": 25,
   "id": "9225f2dc",
   "metadata": {},
   "outputs": [],
   "source": [
    "#Splitting dataset into training and testing\n",
    "from sklearn.model_selection import train_test_split\n",
    "x_train, x_test, y_train, y_test = train_test_split(x, y, test_size=0.30, random_state=100)"
   ]
  },
  {
   "cell_type": "code",
   "execution_count": 26,
   "id": "67b22181",
   "metadata": {},
   "outputs": [
    {
     "name": "stdout",
     "output_type": "stream",
     "text": [
      "(22373, 16201)\n",
      "(9589, 16201)\n",
      "(22373,)\n",
      "(9589,)\n"
     ]
    }
   ],
   "source": [
    "print(x_train.shape)\n",
    "print(x_test.shape)\n",
    "print(y_train.shape)\n",
    "print(y_test.shape)"
   ]
  },
  {
   "cell_type": "code",
   "execution_count": 27,
   "id": "66353a82",
   "metadata": {},
   "outputs": [
    {
     "data": {
      "text/plain": [
       "LinearSVC(loss='hinge', random_state=0)"
      ]
     },
     "execution_count": 27,
     "metadata": {},
     "output_type": "execute_result"
    }
   ],
   "source": [
    "# to classifie model will use Stochastic Gradient Descent Classifier\n",
    "from sklearn.linear_model import SGDClassifier\n",
    "from sklearn.svm import LinearSVC\n",
    "\n",
    "model1 = SGDClassifier(loss = 'hinge', penalty = 'l2', random_state=0)\n",
    "model2 = LinearSVC(loss='hinge', random_state=0)\n",
    "\n",
    "model1.fit(x_train,y_train)\n",
    "model2.fit(x_train,y_train)"
   ]
  },
  {
   "cell_type": "code",
   "execution_count": 28,
   "id": "a28c7aa9",
   "metadata": {},
   "outputs": [],
   "source": [
    "y_pred1 = model1.predict(x_test)\n",
    "y_pred2 = model2.predict(x_test)"
   ]
  },
  {
   "cell_type": "code",
   "execution_count": 29,
   "id": "be9664ff",
   "metadata": {},
   "outputs": [
    {
     "data": {
      "text/plain": [
       "((9589,), (9589,))"
      ]
     },
     "execution_count": 29,
     "metadata": {},
     "output_type": "execute_result"
    }
   ],
   "source": [
    "y_pred1.shape, y_pred2.shape"
   ]
  },
  {
   "cell_type": "code",
   "execution_count": 30,
   "id": "5e9284cd",
   "metadata": {},
   "outputs": [
    {
     "name": "stdout",
     "output_type": "stream",
     "text": [
      "SGDclassfier accuracy is:  0.9455626238398165\n",
      "LinearSVC accuracy is:  0.9495254979664198\n"
     ]
    }
   ],
   "source": [
    "# acuracy score\n",
    "from sklearn.metrics import accuracy_score\n",
    "\n",
    "print('SGDclassfier accuracy is: ',accuracy_score(y_test, y_pred1))\n",
    "print('LinearSVC accuracy is: ',accuracy_score(y_test, y_pred2))"
   ]
  },
  {
   "cell_type": "code",
   "execution_count": 31,
   "id": "32f0e899",
   "metadata": {},
   "outputs": [
    {
     "name": "stdout",
     "output_type": "stream",
     "text": [
      "classification report from Stochastic gradient decenst:\n",
      "\n",
      "              precision    recall  f1-score   support\n",
      "\n",
      "           0       0.95      1.00      0.97      8921\n",
      "           1       0.90      0.25      0.39       668\n",
      "\n",
      "    accuracy                           0.95      9589\n",
      "   macro avg       0.92      0.62      0.68      9589\n",
      "weighted avg       0.94      0.95      0.93      9589\n",
      "\n",
      "\n",
      "classfication report of Linear vector machine:\n",
      "\n",
      "              precision    recall  f1-score   support\n",
      "\n",
      "           0       0.95      1.00      0.97      8921\n",
      "           1       0.86      0.33      0.48       668\n",
      "\n",
      "    accuracy                           0.95      9589\n",
      "   macro avg       0.91      0.66      0.72      9589\n",
      "weighted avg       0.95      0.95      0.94      9589\n",
      "\n"
     ]
    }
   ],
   "source": [
    "# report\n",
    "from sklearn.metrics import classification_report\n",
    "print('classification report from Stochastic gradient decenst:\\n')\n",
    "print(classification_report(y_test, y_pred1))\n",
    "print()\n",
    "print('classfication report of Linear vector machine:\\n')\n",
    "print(classification_report(y_test, y_pred2))"
   ]
  },
  {
   "cell_type": "code",
   "execution_count": 34,
   "id": "7b6e1192",
   "metadata": {},
   "outputs": [
    {
     "name": "stdout",
     "output_type": "stream",
     "text": [
      "confsuion matrix by SGD\n",
      " [[8903  504]\n",
      " [  18  164]]\n",
      "\n",
      "consfusion matrix by LinearSVC\n",
      " [[8885  448]\n",
      " [  36  220]]\n"
     ]
    }
   ],
   "source": [
    "from sklearn.metrics import confusion_matrix\n",
    "print('confsuion matrix by SGD\\n',confusion_matrix(y_pred1, y_test))\n",
    "print()\n",
    "print('consfusion matrix by LinearSVC\\n',confusion_matrix(y_pred2, y_test))"
   ]
  },
  {
   "cell_type": "code",
   "execution_count": 35,
   "id": "a13ae9f7",
   "metadata": {},
   "outputs": [
    {
     "data": {
      "text/html": [
       "<div>\n",
       "<style scoped>\n",
       "    .dataframe tbody tr th:only-of-type {\n",
       "        vertical-align: middle;\n",
       "    }\n",
       "\n",
       "    .dataframe tbody tr th {\n",
       "        vertical-align: top;\n",
       "    }\n",
       "\n",
       "    .dataframe thead th {\n",
       "        text-align: right;\n",
       "    }\n",
       "</style>\n",
       "<table border=\"1\" class=\"dataframe\">\n",
       "  <thead>\n",
       "    <tr style=\"text-align: right;\">\n",
       "      <th></th>\n",
       "      <th>actual</th>\n",
       "      <th>predicted by SGD</th>\n",
       "      <th>predicted by SVC</th>\n",
       "    </tr>\n",
       "  </thead>\n",
       "  <tbody>\n",
       "    <tr>\n",
       "      <th>21312</th>\n",
       "      <td>0</td>\n",
       "      <td>0</td>\n",
       "      <td>0</td>\n",
       "    </tr>\n",
       "    <tr>\n",
       "      <th>11967</th>\n",
       "      <td>0</td>\n",
       "      <td>0</td>\n",
       "      <td>0</td>\n",
       "    </tr>\n",
       "    <tr>\n",
       "      <th>8147</th>\n",
       "      <td>0</td>\n",
       "      <td>0</td>\n",
       "      <td>0</td>\n",
       "    </tr>\n",
       "    <tr>\n",
       "      <th>23968</th>\n",
       "      <td>0</td>\n",
       "      <td>1</td>\n",
       "      <td>1</td>\n",
       "    </tr>\n",
       "    <tr>\n",
       "      <th>29784</th>\n",
       "      <td>0</td>\n",
       "      <td>0</td>\n",
       "      <td>0</td>\n",
       "    </tr>\n",
       "  </tbody>\n",
       "</table>\n",
       "</div>"
      ],
      "text/plain": [
       "       actual  predicted by SGD  predicted by SVC\n",
       "21312       0                 0                 0\n",
       "11967       0                 0                 0\n",
       "8147        0                 0                 0\n",
       "23968       0                 1                 1\n",
       "29784       0                 0                 0"
      ]
     },
     "execution_count": 35,
     "metadata": {},
     "output_type": "execute_result"
    }
   ],
   "source": [
    "'''label 0: predict tweet is fine\n",
    "label 1: predict tweets are sexist/recist'''\n",
    "temp_df = pd.DataFrame({'actual':y_test, 'predicted by SGD':y_pred1, 'predicted by SVC':y_pred2})\n",
    "temp_df.tail()"
   ]
  },
  {
   "cell_type": "markdown",
   "id": "10feb8f3",
   "metadata": {},
   "source": [
    "## Make prediction on Unseen/test data"
   ]
  },
  {
   "cell_type": "code",
   "execution_count": 36,
   "id": "987aa0a7",
   "metadata": {},
   "outputs": [
    {
     "data": {
      "text/html": [
       "<div>\n",
       "<style scoped>\n",
       "    .dataframe tbody tr th:only-of-type {\n",
       "        vertical-align: middle;\n",
       "    }\n",
       "\n",
       "    .dataframe tbody tr th {\n",
       "        vertical-align: top;\n",
       "    }\n",
       "\n",
       "    .dataframe thead th {\n",
       "        text-align: right;\n",
       "    }\n",
       "</style>\n",
       "<table border=\"1\" class=\"dataframe\">\n",
       "  <thead>\n",
       "    <tr style=\"text-align: right;\">\n",
       "      <th></th>\n",
       "      <th>id</th>\n",
       "      <th>tweet</th>\n",
       "    </tr>\n",
       "  </thead>\n",
       "  <tbody>\n",
       "    <tr>\n",
       "      <th>0</th>\n",
       "      <td>31963</td>\n",
       "      <td>#studiolife #aislife #requires #passion #dedic...</td>\n",
       "    </tr>\n",
       "    <tr>\n",
       "      <th>1</th>\n",
       "      <td>31964</td>\n",
       "      <td>@user #white #supremacists want everyone to s...</td>\n",
       "    </tr>\n",
       "    <tr>\n",
       "      <th>2</th>\n",
       "      <td>31965</td>\n",
       "      <td>safe ways to heal your #acne!!    #altwaystohe...</td>\n",
       "    </tr>\n",
       "    <tr>\n",
       "      <th>3</th>\n",
       "      <td>31966</td>\n",
       "      <td>is the hp and the cursed child book up for res...</td>\n",
       "    </tr>\n",
       "    <tr>\n",
       "      <th>4</th>\n",
       "      <td>31967</td>\n",
       "      <td>3rd #bihday to my amazing, hilarious #nephew...</td>\n",
       "    </tr>\n",
       "  </tbody>\n",
       "</table>\n",
       "</div>"
      ],
      "text/plain": [
       "      id                                              tweet\n",
       "0  31963  #studiolife #aislife #requires #passion #dedic...\n",
       "1  31964   @user #white #supremacists want everyone to s...\n",
       "2  31965  safe ways to heal your #acne!!    #altwaystohe...\n",
       "3  31966  is the hp and the cursed child book up for res...\n",
       "4  31967    3rd #bihday to my amazing, hilarious #nephew..."
      ]
     },
     "execution_count": 36,
     "metadata": {},
     "output_type": "execute_result"
    }
   ],
   "source": [
    "test = pd.read_csv('test_tweets_anuFYb8.csv')\n",
    "test.head()"
   ]
  },
  {
   "cell_type": "code",
   "execution_count": 37,
   "id": "1a03a60f",
   "metadata": {},
   "outputs": [
    {
     "data": {
      "text/html": [
       "<div>\n",
       "<style scoped>\n",
       "    .dataframe tbody tr th:only-of-type {\n",
       "        vertical-align: middle;\n",
       "    }\n",
       "\n",
       "    .dataframe tbody tr th {\n",
       "        vertical-align: top;\n",
       "    }\n",
       "\n",
       "    .dataframe thead th {\n",
       "        text-align: right;\n",
       "    }\n",
       "</style>\n",
       "<table border=\"1\" class=\"dataframe\">\n",
       "  <thead>\n",
       "    <tr style=\"text-align: right;\">\n",
       "      <th></th>\n",
       "      <th>id</th>\n",
       "      <th>tweet</th>\n",
       "    </tr>\n",
       "  </thead>\n",
       "  <tbody>\n",
       "    <tr>\n",
       "      <th>0</th>\n",
       "      <td>31963</td>\n",
       "      <td>#studiolife #aislife #requires #passion #dedic...</td>\n",
       "    </tr>\n",
       "    <tr>\n",
       "      <th>1</th>\n",
       "      <td>31964</td>\n",
       "      <td>@user #white #supremacists want everyone to s...</td>\n",
       "    </tr>\n",
       "    <tr>\n",
       "      <th>2</th>\n",
       "      <td>31965</td>\n",
       "      <td>safe ways to heal your #acne!!    #altwaystohe...</td>\n",
       "    </tr>\n",
       "    <tr>\n",
       "      <th>3</th>\n",
       "      <td>31966</td>\n",
       "      <td>is the hp and the cursed child book up for res...</td>\n",
       "    </tr>\n",
       "    <tr>\n",
       "      <th>4</th>\n",
       "      <td>31967</td>\n",
       "      <td>3rd #bihday to my amazing, hilarious #nephew...</td>\n",
       "    </tr>\n",
       "    <tr>\n",
       "      <th>5</th>\n",
       "      <td>31968</td>\n",
       "      <td>choose to be   :) #momtips</td>\n",
       "    </tr>\n",
       "    <tr>\n",
       "      <th>6</th>\n",
       "      <td>31969</td>\n",
       "      <td>something inside me dies ð¦ð¿â¨  eyes nes...</td>\n",
       "    </tr>\n",
       "    <tr>\n",
       "      <th>7</th>\n",
       "      <td>31970</td>\n",
       "      <td>#finished#tattoo#inked#ink#loveitâ¤ï¸ #â¤ï¸...</td>\n",
       "    </tr>\n",
       "    <tr>\n",
       "      <th>8</th>\n",
       "      <td>31971</td>\n",
       "      <td>@user @user @user i will never understand why...</td>\n",
       "    </tr>\n",
       "    <tr>\n",
       "      <th>9</th>\n",
       "      <td>31972</td>\n",
       "      <td>#delicious   #food #lovelife #capetown mannaep...</td>\n",
       "    </tr>\n",
       "  </tbody>\n",
       "</table>\n",
       "</div>"
      ],
      "text/plain": [
       "      id                                              tweet\n",
       "0  31963  #studiolife #aislife #requires #passion #dedic...\n",
       "1  31964   @user #white #supremacists want everyone to s...\n",
       "2  31965  safe ways to heal your #acne!!    #altwaystohe...\n",
       "3  31966  is the hp and the cursed child book up for res...\n",
       "4  31967    3rd #bihday to my amazing, hilarious #nephew...\n",
       "5  31968                        choose to be   :) #momtips \n",
       "6  31969  something inside me dies ð¦ð¿â¨  eyes nes...\n",
       "7  31970  #finished#tattoo#inked#ink#loveitâ¤ï¸ #â¤ï¸...\n",
       "8  31971   @user @user @user i will never understand why...\n",
       "9  31972  #delicious   #food #lovelife #capetown mannaep..."
      ]
     },
     "execution_count": 37,
     "metadata": {},
     "output_type": "execute_result"
    }
   ],
   "source": [
    "test.head(10)"
   ]
  },
  {
   "cell_type": "code",
   "execution_count": 38,
   "id": "f46c3bed",
   "metadata": {},
   "outputs": [],
   "source": [
    "test['tweet'] = test['tweet'].apply(lambda x: specialKey(x))\n",
    "\n",
    "test['tweet']= test['tweet'].apply(lambda x: removePunctuation(x))\n",
    "\n",
    "test['tweet'] = test['tweet'].apply(transform_text)\n",
    "\n",
    "test['tweet'] = test['tweet'].apply(lambda x: deEmojify(x))\n",
    "\n",
    "# remove nums and links\n",
    "test['tweet'] = test['tweet'].str.strip().str.replace('   ', ' ').str.replace('  ', ' ')\n",
    "test['tweet'] = test['tweet'].str.replace('\\d+', '')\n",
    "test['tweet'] = test['tweet'].str.replace(r'http?://[^\\s<>\"]+|www\\.[^\\s<>\"]+', '')"
   ]
  },
  {
   "cell_type": "code",
   "execution_count": 40,
   "id": "f4964056",
   "metadata": {},
   "outputs": [
    {
     "data": {
      "text/html": [
       "<div>\n",
       "<style scoped>\n",
       "    .dataframe tbody tr th:only-of-type {\n",
       "        vertical-align: middle;\n",
       "    }\n",
       "\n",
       "    .dataframe tbody tr th {\n",
       "        vertical-align: top;\n",
       "    }\n",
       "\n",
       "    .dataframe thead th {\n",
       "        text-align: right;\n",
       "    }\n",
       "</style>\n",
       "<table border=\"1\" class=\"dataframe\">\n",
       "  <thead>\n",
       "    <tr style=\"text-align: right;\">\n",
       "      <th></th>\n",
       "      <th>id</th>\n",
       "      <th>tweet</th>\n",
       "    </tr>\n",
       "  </thead>\n",
       "  <tbody>\n",
       "    <tr>\n",
       "      <th>0</th>\n",
       "      <td>31963</td>\n",
       "      <td>find</td>\n",
       "    </tr>\n",
       "    <tr>\n",
       "      <th>1</th>\n",
       "      <td>31964</td>\n",
       "      <td>want everyon see new here</td>\n",
       "    </tr>\n",
       "    <tr>\n",
       "      <th>2</th>\n",
       "      <td>31965</td>\n",
       "      <td>safe way heal</td>\n",
       "    </tr>\n",
       "    <tr>\n",
       "      <th>3</th>\n",
       "      <td>31966</td>\n",
       "      <td>hp curs child book reserv alreadi yes</td>\n",
       "    </tr>\n",
       "    <tr>\n",
       "      <th>4</th>\n",
       "      <td>31967</td>\n",
       "      <td>rd amaz hilari eli ahmir uncl dave love misses</td>\n",
       "    </tr>\n",
       "    <tr>\n",
       "      <th>5</th>\n",
       "      <td>31968</td>\n",
       "      <td>choos</td>\n",
       "    </tr>\n",
       "    <tr>\n",
       "      <th>6</th>\n",
       "      <td>31969</td>\n",
       "      <td>someth insid die eye ness</td>\n",
       "    </tr>\n",
       "    <tr>\n",
       "      <th>7</th>\n",
       "      <td>31970</td>\n",
       "      <td></td>\n",
       "    </tr>\n",
       "    <tr>\n",
       "      <th>8</th>\n",
       "      <td>31971</td>\n",
       "      <td>never understand dad left young</td>\n",
       "    </tr>\n",
       "    <tr>\n",
       "      <th>9</th>\n",
       "      <td>31972</td>\n",
       "      <td>mannaepicur</td>\n",
       "    </tr>\n",
       "  </tbody>\n",
       "</table>\n",
       "</div>"
      ],
      "text/plain": [
       "      id                                           tweet\n",
       "0  31963                                            find\n",
       "1  31964                       want everyon see new here\n",
       "2  31965                                   safe way heal\n",
       "3  31966           hp curs child book reserv alreadi yes\n",
       "4  31967  rd amaz hilari eli ahmir uncl dave love misses\n",
       "5  31968                                           choos\n",
       "6  31969                       someth insid die eye ness\n",
       "7  31970                                                \n",
       "8  31971                 never understand dad left young\n",
       "9  31972                                     mannaepicur"
      ]
     },
     "execution_count": 40,
     "metadata": {},
     "output_type": "execute_result"
    }
   ],
   "source": [
    "test.head(10)"
   ]
  },
  {
   "cell_type": "code",
   "execution_count": 41,
   "id": "a99218c3",
   "metadata": {},
   "outputs": [
    {
     "name": "stdout",
     "output_type": "stream",
     "text": [
      "31962 17197\n"
     ]
    }
   ],
   "source": [
    "train_len = len(train) # it will help to identifie the data\n",
    "test_len = len(test)\n",
    "print(train_len, test_len)"
   ]
  },
  {
   "cell_type": "code",
   "execution_count": 42,
   "id": "d31eff79",
   "metadata": {},
   "outputs": [
    {
     "data": {
      "text/html": [
       "<div>\n",
       "<style scoped>\n",
       "    .dataframe tbody tr th:only-of-type {\n",
       "        vertical-align: middle;\n",
       "    }\n",
       "\n",
       "    .dataframe tbody tr th {\n",
       "        vertical-align: top;\n",
       "    }\n",
       "\n",
       "    .dataframe thead th {\n",
       "        text-align: right;\n",
       "    }\n",
       "</style>\n",
       "<table border=\"1\" class=\"dataframe\">\n",
       "  <thead>\n",
       "    <tr style=\"text-align: right;\">\n",
       "      <th></th>\n",
       "      <th>id</th>\n",
       "      <th>label</th>\n",
       "      <th>tweet</th>\n",
       "    </tr>\n",
       "  </thead>\n",
       "  <tbody>\n",
       "    <tr>\n",
       "      <th>31960</th>\n",
       "      <td>31961</td>\n",
       "      <td>1.0</td>\n",
       "      <td>vandalis condemn act</td>\n",
       "    </tr>\n",
       "    <tr>\n",
       "      <th>31961</th>\n",
       "      <td>31962</td>\n",
       "      <td>0.0</td>\n",
       "      <td>thank follow</td>\n",
       "    </tr>\n",
       "    <tr>\n",
       "      <th>0</th>\n",
       "      <td>31963</td>\n",
       "      <td>NaN</td>\n",
       "      <td>find</td>\n",
       "    </tr>\n",
       "    <tr>\n",
       "      <th>1</th>\n",
       "      <td>31964</td>\n",
       "      <td>NaN</td>\n",
       "      <td>want everyon see new here</td>\n",
       "    </tr>\n",
       "    <tr>\n",
       "      <th>2</th>\n",
       "      <td>31965</td>\n",
       "      <td>NaN</td>\n",
       "      <td>safe way heal</td>\n",
       "    </tr>\n",
       "    <tr>\n",
       "      <th>3</th>\n",
       "      <td>31966</td>\n",
       "      <td>NaN</td>\n",
       "      <td>hp curs child book reserv alreadi yes</td>\n",
       "    </tr>\n",
       "  </tbody>\n",
       "</table>\n",
       "</div>"
      ],
      "text/plain": [
       "          id  label                                  tweet\n",
       "31960  31961    1.0                   vandalis condemn act\n",
       "31961  31962    0.0                           thank follow\n",
       "0      31963    NaN                                   find\n",
       "1      31964    NaN              want everyon see new here\n",
       "2      31965    NaN                          safe way heal\n",
       "3      31966    NaN  hp curs child book reserv alreadi yes"
      ]
     },
     "execution_count": 42,
     "metadata": {},
     "output_type": "execute_result"
    }
   ],
   "source": [
    "df = pd.concat([train, test], axis=0)  # axis:0 represents a column\n",
    "df.iloc[31960:31966]"
   ]
  },
  {
   "cell_type": "code",
   "execution_count": 43,
   "id": "1224f0f5",
   "metadata": {},
   "outputs": [],
   "source": [
    "# for solving above error we need to reset the index\n",
    "df.reset_index(drop=True, inplace=True)"
   ]
  },
  {
   "cell_type": "code",
   "execution_count": 44,
   "id": "3e60e392",
   "metadata": {},
   "outputs": [
    {
     "data": {
      "text/html": [
       "<div>\n",
       "<style scoped>\n",
       "    .dataframe tbody tr th:only-of-type {\n",
       "        vertical-align: middle;\n",
       "    }\n",
       "\n",
       "    .dataframe tbody tr th {\n",
       "        vertical-align: top;\n",
       "    }\n",
       "\n",
       "    .dataframe thead th {\n",
       "        text-align: right;\n",
       "    }\n",
       "</style>\n",
       "<table border=\"1\" class=\"dataframe\">\n",
       "  <thead>\n",
       "    <tr style=\"text-align: right;\">\n",
       "      <th></th>\n",
       "      <th>id</th>\n",
       "      <th>label</th>\n",
       "      <th>tweet</th>\n",
       "    </tr>\n",
       "  </thead>\n",
       "  <tbody>\n",
       "    <tr>\n",
       "      <th>31960</th>\n",
       "      <td>31961</td>\n",
       "      <td>1.0</td>\n",
       "      <td>vandalis condemn act</td>\n",
       "    </tr>\n",
       "    <tr>\n",
       "      <th>31961</th>\n",
       "      <td>31962</td>\n",
       "      <td>0.0</td>\n",
       "      <td>thank follow</td>\n",
       "    </tr>\n",
       "    <tr>\n",
       "      <th>31962</th>\n",
       "      <td>31963</td>\n",
       "      <td>NaN</td>\n",
       "      <td>find</td>\n",
       "    </tr>\n",
       "    <tr>\n",
       "      <th>31963</th>\n",
       "      <td>31964</td>\n",
       "      <td>NaN</td>\n",
       "      <td>want everyon see new here</td>\n",
       "    </tr>\n",
       "    <tr>\n",
       "      <th>31964</th>\n",
       "      <td>31965</td>\n",
       "      <td>NaN</td>\n",
       "      <td>safe way heal</td>\n",
       "    </tr>\n",
       "    <tr>\n",
       "      <th>31965</th>\n",
       "      <td>31966</td>\n",
       "      <td>NaN</td>\n",
       "      <td>hp curs child book reserv alreadi yes</td>\n",
       "    </tr>\n",
       "  </tbody>\n",
       "</table>\n",
       "</div>"
      ],
      "text/plain": [
       "          id  label                                  tweet\n",
       "31960  31961    1.0                   vandalis condemn act\n",
       "31961  31962    0.0                           thank follow\n",
       "31962  31963    NaN                                   find\n",
       "31963  31964    NaN              want everyon see new here\n",
       "31964  31965    NaN                          safe way heal\n",
       "31965  31966    NaN  hp curs child book reserv alreadi yes"
      ]
     },
     "execution_count": 44,
     "metadata": {},
     "output_type": "execute_result"
    }
   ],
   "source": [
    "df.iloc[31960:31966]   # we can see we finally remove data redundancy"
   ]
  },
  {
   "cell_type": "code",
   "execution_count": 45,
   "id": "caff497a",
   "metadata": {},
   "outputs": [
    {
     "name": "stdout",
     "output_type": "stream",
     "text": [
      "31962 17197 49159\n"
     ]
    }
   ],
   "source": [
    "print(len(train), len(test), len(df))"
   ]
  },
  {
   "cell_type": "markdown",
   "id": "1f40a880",
   "metadata": {},
   "source": [
    "## spliting unseen data into train and test"
   ]
  },
  {
   "cell_type": "code",
   "execution_count": 49,
   "id": "0afe5aa3",
   "metadata": {},
   "outputs": [],
   "source": [
    "train_Unseen = df.iloc[:train_len,:]\n",
    "test_Unseen = df.iloc[train_len:,:]"
   ]
  },
  {
   "cell_type": "code",
   "execution_count": 50,
   "id": "42a1b163",
   "metadata": {},
   "outputs": [
    {
     "data": {
      "text/html": [
       "<div>\n",
       "<style scoped>\n",
       "    .dataframe tbody tr th:only-of-type {\n",
       "        vertical-align: middle;\n",
       "    }\n",
       "\n",
       "    .dataframe tbody tr th {\n",
       "        vertical-align: top;\n",
       "    }\n",
       "\n",
       "    .dataframe thead th {\n",
       "        text-align: right;\n",
       "    }\n",
       "</style>\n",
       "<table border=\"1\" class=\"dataframe\">\n",
       "  <thead>\n",
       "    <tr style=\"text-align: right;\">\n",
       "      <th></th>\n",
       "      <th>id</th>\n",
       "      <th>label</th>\n",
       "      <th>tweet</th>\n",
       "    </tr>\n",
       "  </thead>\n",
       "  <tbody>\n",
       "    <tr>\n",
       "      <th>0</th>\n",
       "      <td>1</td>\n",
       "      <td>0.0</td>\n",
       "      <td>father dysfunct selfish drag kid dysfunct</td>\n",
       "    </tr>\n",
       "    <tr>\n",
       "      <th>1</th>\n",
       "      <td>2</td>\n",
       "      <td>0.0</td>\n",
       "      <td>thank credit use caus offer wheelchair van pdx</td>\n",
       "    </tr>\n",
       "    <tr>\n",
       "      <th>2</th>\n",
       "      <td>3</td>\n",
       "      <td>0.0</td>\n",
       "      <td>bihday majesti</td>\n",
       "    </tr>\n",
       "    <tr>\n",
       "      <th>3</th>\n",
       "      <td>4</td>\n",
       "      <td>0.0</td>\n",
       "      <td>love u take u time ur</td>\n",
       "    </tr>\n",
       "    <tr>\n",
       "      <th>4</th>\n",
       "      <td>5</td>\n",
       "      <td>0.0</td>\n",
       "      <td>factsguid societi</td>\n",
       "    </tr>\n",
       "  </tbody>\n",
       "</table>\n",
       "</div>"
      ],
      "text/plain": [
       "   id  label                                           tweet\n",
       "0   1    0.0       father dysfunct selfish drag kid dysfunct\n",
       "1   2    0.0  thank credit use caus offer wheelchair van pdx\n",
       "2   3    0.0                                  bihday majesti\n",
       "3   4    0.0                           love u take u time ur\n",
       "4   5    0.0                               factsguid societi"
      ]
     },
     "execution_count": 50,
     "metadata": {},
     "output_type": "execute_result"
    }
   ],
   "source": [
    "train_Unseen.head()"
   ]
  },
  {
   "cell_type": "code",
   "execution_count": 53,
   "id": "bbcd1b61",
   "metadata": {},
   "outputs": [
    {
     "data": {
      "text/html": [
       "<div>\n",
       "<style scoped>\n",
       "    .dataframe tbody tr th:only-of-type {\n",
       "        vertical-align: middle;\n",
       "    }\n",
       "\n",
       "    .dataframe tbody tr th {\n",
       "        vertical-align: top;\n",
       "    }\n",
       "\n",
       "    .dataframe thead th {\n",
       "        text-align: right;\n",
       "    }\n",
       "</style>\n",
       "<table border=\"1\" class=\"dataframe\">\n",
       "  <thead>\n",
       "    <tr style=\"text-align: right;\">\n",
       "      <th></th>\n",
       "      <th>id</th>\n",
       "      <th>label</th>\n",
       "      <th>tweet</th>\n",
       "    </tr>\n",
       "  </thead>\n",
       "  <tbody>\n",
       "    <tr>\n",
       "      <th>0</th>\n",
       "      <td>1</td>\n",
       "      <td>0</td>\n",
       "      <td>father dysfunct selfish drag kid dysfunct</td>\n",
       "    </tr>\n",
       "    <tr>\n",
       "      <th>1</th>\n",
       "      <td>2</td>\n",
       "      <td>0</td>\n",
       "      <td>thank credit use caus offer wheelchair van pdx</td>\n",
       "    </tr>\n",
       "    <tr>\n",
       "      <th>2</th>\n",
       "      <td>3</td>\n",
       "      <td>0</td>\n",
       "      <td>bihday majesti</td>\n",
       "    </tr>\n",
       "    <tr>\n",
       "      <th>3</th>\n",
       "      <td>4</td>\n",
       "      <td>0</td>\n",
       "      <td>love u take u time ur</td>\n",
       "    </tr>\n",
       "    <tr>\n",
       "      <th>4</th>\n",
       "      <td>5</td>\n",
       "      <td>0</td>\n",
       "      <td>factsguid societi</td>\n",
       "    </tr>\n",
       "  </tbody>\n",
       "</table>\n",
       "</div>"
      ],
      "text/plain": [
       "   id  label                                           tweet\n",
       "0   1      0       father dysfunct selfish drag kid dysfunct\n",
       "1   2      0  thank credit use caus offer wheelchair van pdx\n",
       "2   3      0                                  bihday majesti\n",
       "3   4      0                           love u take u time ur\n",
       "4   5      0                               factsguid societi"
      ]
     },
     "execution_count": 53,
     "metadata": {},
     "output_type": "execute_result"
    }
   ],
   "source": [
    "# we can see from the above label columns have changed from int to float\n",
    "# let's change into int again\n",
    "train_Unseen['label'] = train_Unseen['label'].astype(int)\n",
    "train_Unseen.label.dtype\n",
    "train_Unseen.head()"
   ]
  },
  {
   "cell_type": "code",
   "execution_count": 54,
   "id": "8f64d67d",
   "metadata": {},
   "outputs": [
    {
     "data": {
      "text/html": [
       "<div>\n",
       "<style scoped>\n",
       "    .dataframe tbody tr th:only-of-type {\n",
       "        vertical-align: middle;\n",
       "    }\n",
       "\n",
       "    .dataframe tbody tr th {\n",
       "        vertical-align: top;\n",
       "    }\n",
       "\n",
       "    .dataframe thead th {\n",
       "        text-align: right;\n",
       "    }\n",
       "</style>\n",
       "<table border=\"1\" class=\"dataframe\">\n",
       "  <thead>\n",
       "    <tr style=\"text-align: right;\">\n",
       "      <th></th>\n",
       "      <th>id</th>\n",
       "      <th>label</th>\n",
       "      <th>tweet</th>\n",
       "    </tr>\n",
       "  </thead>\n",
       "  <tbody>\n",
       "    <tr>\n",
       "      <th>31962</th>\n",
       "      <td>31963</td>\n",
       "      <td>NaN</td>\n",
       "      <td>find</td>\n",
       "    </tr>\n",
       "    <tr>\n",
       "      <th>31963</th>\n",
       "      <td>31964</td>\n",
       "      <td>NaN</td>\n",
       "      <td>want everyon see new here</td>\n",
       "    </tr>\n",
       "    <tr>\n",
       "      <th>31964</th>\n",
       "      <td>31965</td>\n",
       "      <td>NaN</td>\n",
       "      <td>safe way heal</td>\n",
       "    </tr>\n",
       "    <tr>\n",
       "      <th>31965</th>\n",
       "      <td>31966</td>\n",
       "      <td>NaN</td>\n",
       "      <td>hp curs child book reserv alreadi yes</td>\n",
       "    </tr>\n",
       "    <tr>\n",
       "      <th>31966</th>\n",
       "      <td>31967</td>\n",
       "      <td>NaN</td>\n",
       "      <td>rd amaz hilari eli ahmir uncl dave love misses</td>\n",
       "    </tr>\n",
       "  </tbody>\n",
       "</table>\n",
       "</div>"
      ],
      "text/plain": [
       "          id  label                                           tweet\n",
       "31962  31963    NaN                                            find\n",
       "31963  31964    NaN                       want everyon see new here\n",
       "31964  31965    NaN                                   safe way heal\n",
       "31965  31966    NaN           hp curs child book reserv alreadi yes\n",
       "31966  31967    NaN  rd amaz hilari eli ahmir uncl dave love misses"
      ]
     },
     "execution_count": 54,
     "metadata": {},
     "output_type": "execute_result"
    }
   ],
   "source": [
    "test_Unseen.head()"
   ]
  },
  {
   "cell_type": "code",
   "execution_count": 55,
   "id": "f2b0d58c",
   "metadata": {},
   "outputs": [
    {
     "data": {
      "text/html": [
       "<div>\n",
       "<style scoped>\n",
       "    .dataframe tbody tr th:only-of-type {\n",
       "        vertical-align: middle;\n",
       "    }\n",
       "\n",
       "    .dataframe tbody tr th {\n",
       "        vertical-align: top;\n",
       "    }\n",
       "\n",
       "    .dataframe thead th {\n",
       "        text-align: right;\n",
       "    }\n",
       "</style>\n",
       "<table border=\"1\" class=\"dataframe\">\n",
       "  <thead>\n",
       "    <tr style=\"text-align: right;\">\n",
       "      <th></th>\n",
       "      <th>id</th>\n",
       "      <th>tweet</th>\n",
       "    </tr>\n",
       "  </thead>\n",
       "  <tbody>\n",
       "    <tr>\n",
       "      <th>31962</th>\n",
       "      <td>31963</td>\n",
       "      <td>find</td>\n",
       "    </tr>\n",
       "    <tr>\n",
       "      <th>31963</th>\n",
       "      <td>31964</td>\n",
       "      <td>want everyon see new here</td>\n",
       "    </tr>\n",
       "    <tr>\n",
       "      <th>31964</th>\n",
       "      <td>31965</td>\n",
       "      <td>safe way heal</td>\n",
       "    </tr>\n",
       "    <tr>\n",
       "      <th>31965</th>\n",
       "      <td>31966</td>\n",
       "      <td>hp curs child book reserv alreadi yes</td>\n",
       "    </tr>\n",
       "    <tr>\n",
       "      <th>31966</th>\n",
       "      <td>31967</td>\n",
       "      <td>rd amaz hilari eli ahmir uncl dave love misses</td>\n",
       "    </tr>\n",
       "  </tbody>\n",
       "</table>\n",
       "</div>"
      ],
      "text/plain": [
       "          id                                           tweet\n",
       "31962  31963                                            find\n",
       "31963  31964                       want everyon see new here\n",
       "31964  31965                                   safe way heal\n",
       "31965  31966           hp curs child book reserv alreadi yes\n",
       "31966  31967  rd amaz hilari eli ahmir uncl dave love misses"
      ]
     },
     "execution_count": 55,
     "metadata": {},
     "output_type": "execute_result"
    }
   ],
   "source": [
    "test_Unseen = test_Unseen.drop(columns=['label'])\n",
    "test_Unseen.head()"
   ]
  },
  {
   "cell_type": "code",
   "execution_count": 57,
   "id": "041c8cff",
   "metadata": {},
   "outputs": [],
   "source": [
    "x1 = tfidf.fit_transform(train_Unseen['tweet']).toarray()"
   ]
  },
  {
   "cell_type": "code",
   "execution_count": 58,
   "id": "0181695e",
   "metadata": {},
   "outputs": [],
   "source": [
    "y1 = train_Unseen['label']"
   ]
  },
  {
   "cell_type": "code",
   "execution_count": 59,
   "id": "24b3f230",
   "metadata": {},
   "outputs": [],
   "source": [
    "final_model = SGDClassifier(loss = 'hinge', penalty = 'l2', random_state=0)"
   ]
  },
  {
   "cell_type": "code",
   "execution_count": 60,
   "id": "fe327f70",
   "metadata": {},
   "outputs": [
    {
     "data": {
      "text/plain": [
       "SGDClassifier(random_state=0)"
      ]
     },
     "execution_count": 60,
     "metadata": {},
     "output_type": "execute_result"
    }
   ],
   "source": [
    "final_model.fit(x1,y1)"
   ]
  },
  {
   "cell_type": "code",
   "execution_count": 61,
   "id": "8e1d80c0",
   "metadata": {},
   "outputs": [],
   "source": [
    "feature_to_be_predict = tfidf.transform(test_Unseen['tweet']).toarray()"
   ]
  },
  {
   "cell_type": "code",
   "execution_count": 63,
   "id": "ce88e5c0",
   "metadata": {},
   "outputs": [],
   "source": [
    "pred = final_model.predict(feature_to_be_predict)"
   ]
  },
  {
   "cell_type": "code",
   "execution_count": 64,
   "id": "a0e37f51",
   "metadata": {},
   "outputs": [
    {
     "data": {
      "text/plain": [
       "array([0, 0, 0, ..., 0, 0, 0])"
      ]
     },
     "execution_count": 64,
     "metadata": {},
     "output_type": "execute_result"
    }
   ],
   "source": [
    "pred"
   ]
  },
  {
   "cell_type": "code",
   "execution_count": 65,
   "id": "700cdbe0",
   "metadata": {},
   "outputs": [
    {
     "data": {
      "text/html": [
       "<div>\n",
       "<style scoped>\n",
       "    .dataframe tbody tr th:only-of-type {\n",
       "        vertical-align: middle;\n",
       "    }\n",
       "\n",
       "    .dataframe tbody tr th {\n",
       "        vertical-align: top;\n",
       "    }\n",
       "\n",
       "    .dataframe thead th {\n",
       "        text-align: right;\n",
       "    }\n",
       "</style>\n",
       "<table border=\"1\" class=\"dataframe\">\n",
       "  <thead>\n",
       "    <tr style=\"text-align: right;\">\n",
       "      <th></th>\n",
       "      <th>id</th>\n",
       "      <th>predict</th>\n",
       "      <th>tweet</th>\n",
       "    </tr>\n",
       "  </thead>\n",
       "  <tbody>\n",
       "    <tr>\n",
       "      <th>31962</th>\n",
       "      <td>31963</td>\n",
       "      <td>0</td>\n",
       "      <td>find</td>\n",
       "    </tr>\n",
       "    <tr>\n",
       "      <th>31963</th>\n",
       "      <td>31964</td>\n",
       "      <td>0</td>\n",
       "      <td>want everyon see new here</td>\n",
       "    </tr>\n",
       "    <tr>\n",
       "      <th>31964</th>\n",
       "      <td>31965</td>\n",
       "      <td>0</td>\n",
       "      <td>safe way heal</td>\n",
       "    </tr>\n",
       "    <tr>\n",
       "      <th>31965</th>\n",
       "      <td>31966</td>\n",
       "      <td>0</td>\n",
       "      <td>hp curs child book reserv alreadi yes</td>\n",
       "    </tr>\n",
       "    <tr>\n",
       "      <th>31966</th>\n",
       "      <td>31967</td>\n",
       "      <td>0</td>\n",
       "      <td>rd amaz hilari eli ahmir uncl dave love misses</td>\n",
       "    </tr>\n",
       "  </tbody>\n",
       "</table>\n",
       "</div>"
      ],
      "text/plain": [
       "          id  predict                                           tweet\n",
       "31962  31963        0                                            find\n",
       "31963  31964        0                       want everyon see new here\n",
       "31964  31965        0                                   safe way heal\n",
       "31965  31966        0           hp curs child book reserv alreadi yes\n",
       "31966  31967        0  rd amaz hilari eli ahmir uncl dave love misses"
      ]
     },
     "execution_count": 65,
     "metadata": {},
     "output_type": "execute_result"
    }
   ],
   "source": [
    "submission = pd.DataFrame()\n",
    "submission['id'] = test_Unseen['id']\n",
    "submission['predict'] = pred\n",
    "submission['tweet'] = test_Unseen.tweet\n",
    "submission.head()"
   ]
  },
  {
   "cell_type": "markdown",
   "id": "4b94a04c",
   "metadata": {},
   "source": [
    "# Rough work:\n",
    "> - tried various methodlogy to predicting on unseen data label which didn't work, need to reviews"
   ]
  },
  {
   "cell_type": "code",
   "execution_count": 68,
   "id": "6c151ff4",
   "metadata": {},
   "outputs": [],
   "source": [
    "# let's save the clasifier into local system\n",
    "import pickle\n",
    "# dump model and tfidf\n",
    "pickle.dump(model1, open('model1.pkl', 'wb'))\n",
    "pickle.dump(model2, open('model2.pkl', 'wb'))\n",
    "pickle.dump(tfidf, open('tfidf.pkl', 'wb'))"
   ]
  },
  {
   "cell_type": "code",
   "execution_count": 75,
   "id": "15a91d9d",
   "metadata": {},
   "outputs": [],
   "source": [
    "# load the classifier\n",
    "org_tfidf = pickle.load(open('tfidf.pkl', 'rb'))\n",
    "pre_trained_model_1 = pickle.load(open('model1.pkl', 'rb'))\n",
    "pre_trained_model_2 =pickle.load(open('model2.pkl', 'rb'))"
   ]
  },
  {
   "cell_type": "code",
   "execution_count": 81,
   "id": "fb3efc4d",
   "metadata": {},
   "outputs": [],
   "source": [
    "test_df = org_tfidf.transform(test['tweet']).toarray()"
   ]
  },
  {
   "cell_type": "code",
   "execution_count": 82,
   "id": "0f8dacf0",
   "metadata": {},
   "outputs": [
    {
     "data": {
      "text/plain": [
       "(17197, 11877)"
      ]
     },
     "execution_count": 82,
     "metadata": {},
     "output_type": "execute_result"
    }
   ],
   "source": [
    "test_df.shape"
   ]
  },
  {
   "cell_type": "code",
   "execution_count": 90,
   "id": "d8676c48",
   "metadata": {},
   "outputs": [
    {
     "data": {
      "text/plain": [
       "array([0., 0., 0., ..., 0., 0., 0.])"
      ]
     },
     "execution_count": 90,
     "metadata": {},
     "output_type": "execute_result"
    }
   ],
   "source": [
    "test_df[:,10]"
   ]
  },
  {
   "cell_type": "code",
   "execution_count": 93,
   "id": "2ad9fef2",
   "metadata": {},
   "outputs": [],
   "source": [
    "# y_pred_test = pre_trained_model_2.predict(test_df)"
   ]
  },
  {
   "cell_type": "code",
   "execution_count": null,
   "id": "7bbdb89d",
   "metadata": {},
   "outputs": [],
   "source": [
    "\"\"\"\n",
    "len(train) -- 8523\n",
    "len(test)  -- 5681\n",
    "\n",
    "concate(train,test) ---- 14204\n",
    "data preparations\n",
    "\n",
    "# spilitng data\n",
    "train = df.iloc[:train_len,:]\n",
    "test = df.iloc[train_len:,:]\n",
    "\n",
    "\n",
    "\"\"\""
   ]
  },
  {
   "cell_type": "code",
   "execution_count": 138,
   "id": "06e1da09",
   "metadata": {},
   "outputs": [],
   "source": [
    "#print(accuracy_score(m_test, pred))"
   ]
  },
  {
   "cell_type": "code",
   "execution_count": 161,
   "id": "fccaedce",
   "metadata": {},
   "outputs": [],
   "source": [
    "test['predicted'] = pred\n",
    "test.to_csv('test_result.csv', index=False)"
   ]
  },
  {
   "cell_type": "code",
   "execution_count": 141,
   "id": "efe518db",
   "metadata": {},
   "outputs": [],
   "source": [
    "# finalize my my result\n",
    "submission.to_csv('submission.csv', index=False)"
   ]
  },
  {
   "cell_type": "code",
   "execution_count": 136,
   "id": "6fbfcbf7",
   "metadata": {},
   "outputs": [
    {
     "data": {
      "text/plain": [
       "id                   49156\n",
       "tweet    feel like mermaid\n",
       "Name: 49155, dtype: object"
      ]
     },
     "execution_count": 136,
     "metadata": {},
     "output_type": "execute_result"
    }
   ],
   "source": [
    "m_test.loc[49155]"
   ]
  },
  {
   "cell_type": "code",
   "execution_count": 70,
   "id": "54847059",
   "metadata": {},
   "outputs": [
    {
     "data": {
      "text/html": [
       "<div>\n",
       "<style scoped>\n",
       "    .dataframe tbody tr th:only-of-type {\n",
       "        vertical-align: middle;\n",
       "    }\n",
       "\n",
       "    .dataframe tbody tr th {\n",
       "        vertical-align: top;\n",
       "    }\n",
       "\n",
       "    .dataframe thead th {\n",
       "        text-align: right;\n",
       "    }\n",
       "</style>\n",
       "<table border=\"1\" class=\"dataframe\">\n",
       "  <thead>\n",
       "    <tr style=\"text-align: right;\">\n",
       "      <th></th>\n",
       "      <th>id</th>\n",
       "      <th>tweet</th>\n",
       "    </tr>\n",
       "  </thead>\n",
       "  <tbody>\n",
       "    <tr>\n",
       "      <th>0</th>\n",
       "      <td>31963</td>\n",
       "      <td>#studiolife #aislife #requires #passion #dedic...</td>\n",
       "    </tr>\n",
       "    <tr>\n",
       "      <th>1</th>\n",
       "      <td>31964</td>\n",
       "      <td>@user #white #supremacists want everyone to s...</td>\n",
       "    </tr>\n",
       "    <tr>\n",
       "      <th>2</th>\n",
       "      <td>31965</td>\n",
       "      <td>safe ways to heal your #acne!!    #altwaystohe...</td>\n",
       "    </tr>\n",
       "    <tr>\n",
       "      <th>3</th>\n",
       "      <td>31966</td>\n",
       "      <td>is the hp and the cursed child book up for res...</td>\n",
       "    </tr>\n",
       "    <tr>\n",
       "      <th>4</th>\n",
       "      <td>31967</td>\n",
       "      <td>3rd #bihday to my amazing, hilarious #nephew...</td>\n",
       "    </tr>\n",
       "  </tbody>\n",
       "</table>\n",
       "</div>"
      ],
      "text/plain": [
       "      id                                              tweet\n",
       "0  31963  #studiolife #aislife #requires #passion #dedic...\n",
       "1  31964   @user #white #supremacists want everyone to s...\n",
       "2  31965  safe ways to heal your #acne!!    #altwaystohe...\n",
       "3  31966  is the hp and the cursed child book up for res...\n",
       "4  31967    3rd #bihday to my amazing, hilarious #nephew..."
      ]
     },
     "execution_count": 70,
     "metadata": {},
     "output_type": "execute_result"
    }
   ],
   "source": [
    "test1 = pd.read_csv('test_tweets_anuFYb8.csv')\n",
    "test1.head()"
   ]
  },
  {
   "cell_type": "code",
   "execution_count": 76,
   "id": "76222166",
   "metadata": {},
   "outputs": [
    {
     "data": {
      "text/plain": [
       "'#studiolife #aislife #requires #passion #dedication #willpower   to find #newmaterialsâ\\x80¦ '"
      ]
     },
     "execution_count": 76,
     "metadata": {},
     "output_type": "execute_result"
    }
   ],
   "source": [
    "test1.iloc[0,1]"
   ]
  },
  {
   "cell_type": "code",
   "execution_count": 95,
   "id": "06b47734",
   "metadata": {},
   "outputs": [
    {
     "data": {
      "text/plain": [
       "['',\n",
       " 'studiolife ',\n",
       " 'aislife ',\n",
       " 'requires ',\n",
       " 'passion ',\n",
       " 'dedication ',\n",
       " 'willpower   to find ',\n",
       " 'newmaterialsâ\\x80¦ ']"
      ]
     },
     "execution_count": 95,
     "metadata": {},
     "output_type": "execute_result"
    }
   ],
   "source": [
    "a.split('#')"
   ]
  },
  {
   "cell_type": "code",
   "execution_count": 78,
   "id": "21343f95",
   "metadata": {},
   "outputs": [
    {
     "name": "stdout",
     "output_type": "stream",
     "text": [
      "to find\n"
     ]
    }
   ],
   "source": [
    "import string\n",
    "def specialKey(text):\n",
    "    keys = ['@','#']\n",
    "    for separator in  string.punctuation:\n",
    "        if separator not in keys:\n",
    "            text = text.replace(separator,' ')\n",
    "    words = []\n",
    "    for word in text.split():\n",
    "        word = word.strip()\n",
    "        if word:\n",
    "            if word[0] not in keys:\n",
    "                words.append(word)\n",
    "    return ' '.join(words)\n",
    "\n",
    "a = test1.iloc[0,1]\n",
    "print(specialKey(a))"
   ]
  },
  {
   "cell_type": "code",
   "execution_count": 112,
   "id": "bd571f11",
   "metadata": {},
   "outputs": [
    {
     "data": {
      "text/plain": [
       "'#studiolife #aislife #requires #passion #dedication #willpower   to find #newmaterialsâ\\x80¦ '"
      ]
     },
     "execution_count": 112,
     "metadata": {},
     "output_type": "execute_result"
    }
   ],
   "source": [
    "lis = a.split('#')\n",
    "string = ' '.join(lis)\n",
    "string"
   ]
  },
  {
   "cell_type": "code",
   "execution_count": 114,
   "id": "62318d29",
   "metadata": {},
   "outputs": [
    {
     "data": {
      "text/plain": [
       "0        #studiolife #aislife #requires #passion #dedic...\n",
       "1         @user #white #supremacists want everyone to s...\n",
       "2        safe ways to heal your #acne!!    #altwaystohe...\n",
       "3        is the hp and the cursed child book up for res...\n",
       "4          3rd #bihday to my amazing, hilarious #nephew...\n",
       "                               ...                        \n",
       "17192    thought factory: left-right polarisation! #tru...\n",
       "17193    feeling like a mermaid ð #hairflip #neverre...\n",
       "17194    #hillary #campaigned today in #ohio((omg)) &am...\n",
       "17195    happy, at work conference: right mindset leads...\n",
       "17196    my   song \"so glad\" free download!  #shoegaze ...\n",
       "Name: tweet, Length: 17197, dtype: object"
      ]
     },
     "execution_count": 114,
     "metadata": {},
     "output_type": "execute_result"
    }
   ],
   "source": [
    "test1.tweet"
   ]
  },
  {
   "cell_type": "code",
   "execution_count": 115,
   "id": "03a91047",
   "metadata": {},
   "outputs": [],
   "source": [
    "def remsep(text):\n",
    "    text = text.split('#')\n",
    "    return ' '.join(text)"
   ]
  },
  {
   "cell_type": "code",
   "execution_count": 116,
   "id": "9d52feb9",
   "metadata": {},
   "outputs": [
    {
     "data": {
      "text/plain": [
       "0         studiolife  aislife  requires  passion  dedic...\n",
       "1         @user  white  supremacists want everyone to s...\n",
       "2        safe ways to heal your  acne!!     altwaystohe...\n",
       "3        is the hp and the cursed child book up for res...\n",
       "4          3rd  bihday to my amazing, hilarious  nephew...\n",
       "                               ...                        \n",
       "17192    thought factory: left-right polarisation!  tru...\n",
       "17193    feeling like a mermaid ð  hairflip  neverre...\n",
       "17194     hillary  campaigned today in  ohio((omg)) &am...\n",
       "17195    happy, at work conference: right mindset leads...\n",
       "17196    my   song \"so glad\" free download!   shoegaze ...\n",
       "Name: tweet, Length: 17197, dtype: object"
      ]
     },
     "execution_count": 116,
     "metadata": {},
     "output_type": "execute_result"
    }
   ],
   "source": [
    "test1['tweet'] = test1['tweet'].apply(lambda x: remsep(x))\n",
    "test1.tweet"
   ]
  },
  {
   "cell_type": "markdown",
   "id": "68f58b9a",
   "metadata": {},
   "source": [
    "Basically we are doing the above operation for passing more text to my model, because in the above trained model we directly remove the hashtag with words instead of removing the words... i am not sure but it could be produce somewhat a accurate result"
   ]
  }
 ],
 "metadata": {
  "kernelspec": {
   "display_name": "Python 3 (ipykernel)",
   "language": "python",
   "name": "python3"
  },
  "language_info": {
   "codemirror_mode": {
    "name": "ipython",
    "version": 3
   },
   "file_extension": ".py",
   "mimetype": "text/x-python",
   "name": "python",
   "nbconvert_exporter": "python",
   "pygments_lexer": "ipython3",
   "version": "3.9.7"
  }
 },
 "nbformat": 4,
 "nbformat_minor": 5
}
